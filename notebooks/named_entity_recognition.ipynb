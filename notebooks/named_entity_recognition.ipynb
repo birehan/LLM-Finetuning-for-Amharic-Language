{
 "cells": [
  {
   "cell_type": "markdown",
   "metadata": {},
   "source": [
    "### Named Entity Recognition\n",
    "\n",
    "The Amharic named entity dataset is annotated within the SAY project\n",
    "at New Mexico State University’s Computing Research Laboratory was used. \n",
    "The data is annotated with six classes, namely \n",
    "- `person`\n",
    "- `location`\n",
    "- `organization`\n",
    "- `time`\n",
    "- `title`\n",
    "- `others`"
   ]
  },
  {
   "cell_type": "code",
   "execution_count": 35,
   "metadata": {},
   "outputs": [],
   "source": [
    "from lxml import etree\n",
    "import xml.etree.ElementTree as ET\n",
    "import os\n",
    "\n",
    "\n",
    "def fix_invalid_xml(file_path):\n",
    "    try:\n",
    "        parser = etree.XMLParser(recover=True)  # Set recover=True to handle invalid XML\n",
    "        tree = etree.parse(file_path, parser)\n",
    "        fixed_xml = etree.tostring(tree, encoding='unicode', pretty_print=True)\n",
    "        \n",
    "        with open(file_path, 'w') as f:\n",
    "            f.write(fixed_xml)\n",
    "        \n",
    "        # print(f\"The XML file '{file_path}' has been fixed and saved successfully.\")\n",
    "    \n",
    "    except IOError:\n",
    "        print(\"Error: File not found.\")\n",
    "    except etree.XMLSyntaxError as e:\n",
    "        print(f\"Error: {e}\")\n",
    "\n",
    "\n",
    "def extract_content_by_class(file_path, all_files_content):\n",
    "    try:\n",
    "        fix_invalid_xml(file_path)\n",
    "\n",
    "        tree = ET.parse(file_path)\n",
    "        root = tree.getroot()\n",
    "\n",
    "        for element in root.iter('font'):\n",
    "            class_name = element.get('class')\n",
    "            text = element.text.strip()\n",
    "\n",
    "            if class_name in all_files_content:\n",
    "                all_files_content[class_name].add(text)\n",
    "            else:\n",
    "                all_files_content[class_name] = set([text])\n",
    "\n",
    "        return all_files_content\n",
    "\n",
    "    except FileNotFoundError:\n",
    "        print(\"File not found.\")\n",
    "        return None\n",
    "    \n",
    "\n",
    "def extract_content_from_xml_folder(folder_path):\n",
    "    all_files_content = {}\n",
    "    for filename in os.listdir(folder_path):\n",
    "        if filename.endswith(\".xml\"):\n",
    "            try:\n",
    "                file_path = os.path.join(folder_path, filename)\n",
    "                extract_content_by_class(file_path, all_files_content)\n",
    "                \n",
    "            except Exception as e:\n",
    "                print(f\"erro occured filename: {filename}, error: {e}\")\n",
    "\n",
    "            \n",
    "    return all_files_content\n"
   ]
  },
  {
   "cell_type": "code",
   "execution_count": 37,
   "metadata": {},
   "outputs": [
    {
     "name": "stdout",
     "output_type": "stream",
     "text": [
      "Content extracted from all XML files based on their class:\n",
      "\tClass: ORG, count: 850\n",
      "\tClass: TIME, count: 653\n",
      "\tClass: TTL, count: 163\n",
      "\tClass: PER, count: 723\n",
      "\tClass: LOC, count: 641\n"
     ]
    }
   ],
   "source": [
    "# Example usage:\n",
    "folder_path = '../data/data/amharic/tagged/nmsu-say/'  # Path to your folder containing XML files\n",
    "all_files_content = extract_content_from_xml_folder(folder_path)\n",
    "if all_files_content:\n",
    "    print(\"Content extracted from all XML files based on their class:\")\n",
    "    for class_name, content_list in all_files_content.items():\n",
    "        print(f\"\\tClass: {class_name}, count: {len(content_list)}\")\n",
    "        \n"
   ]
  }
 ],
 "metadata": {
  "kernelspec": {
   "display_name": "week10",
   "language": "python",
   "name": "python3"
  },
  "language_info": {
   "codemirror_mode": {
    "name": "ipython",
    "version": 3
   },
   "file_extension": ".py",
   "mimetype": "text/x-python",
   "name": "python",
   "nbconvert_exporter": "python",
   "pygments_lexer": "ipython3",
   "version": "3.8.2"
  }
 },
 "nbformat": 4,
 "nbformat_minor": 2
}
