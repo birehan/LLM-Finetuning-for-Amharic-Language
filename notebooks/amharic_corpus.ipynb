{
 "cells": [
  {
   "cell_type": "markdown",
   "metadata": {},
   "source": [
    "## Amharic Corpus"
   ]
  },
  {
   "cell_type": "code",
   "execution_count": 2,
   "metadata": {},
   "outputs": [],
   "source": [
    "train_path = \"../data/am-model-corpus/train.txt\"\n",
    "valid_path = \"../data/am-model-corpus/valid.txt\"\n",
    "test_path = \"../data/am-model-corpus/test.txt\"\n"
   ]
  },
  {
   "cell_type": "code",
   "execution_count": 8,
   "metadata": {},
   "outputs": [],
   "source": [
    "def get_data(file_path):\n",
    "    try:\n",
    "        with open(file_path, 'r') as file:\n",
    "            content = file.read()\n",
    "        return content\n",
    "    except FileNotFoundError:\n",
    "        print(\"File not found.\")\n",
    "        return None\n"
   ]
  },
  {
   "cell_type": "code",
   "execution_count": 9,
   "metadata": {},
   "outputs": [],
   "source": [
    "train_data = get_data(train_path)"
   ]
  },
  {
   "cell_type": "code",
   "execution_count": 13,
   "metadata": {},
   "outputs": [
    {
     "data": {
      "text/plain": [
       "'እንደአንድ ኢትዮጵያዊት ሴት የሚሰማኝን ተናግርያለሁ ።\\nnafkotaschenaki አንድ ኪሎ መግዛት ገባያውን ባዶ ማስቀረት ነው ?\\nየኔ ጤና በኢትጵያውያን እጅ ነው የሜቄዶንያ መስራች ቢኒያም በለጠ ሙሉ ቃለመጠይቁን እነሆ ።\\nበሁለተኛ መዝገብ ደግሞ አባይ ወልዱ ፤ዶክተር አብርሃም ተከስተ፤ ዶክተር እረዳይ በርሄን ጨምሮ የ9 ተጠርጣሪዎች ጉዳይ ታይቷል ።\\nበሀገሪቱ የሚገኙ የደህንነት ባለሙያዎች እንደገለጹት እንደዚህ አይነት ጥቃቶች በኒጀር እየተበራከቱና አሳሳቢ በሚባል ደረጃ ላይ ደርሰዋል ።\\nየንግድ እና ኢንዱስትሪ ሚኒስትሩ አቶ መላኩ አለበልየሁለትዮሽ የንግድ ልውውጡን 1 ቢሊዮን ዶ ።\\nየዚያኑ ዕለት ማታ ፖሊስ የአወሊያንና የሌሎች ቢያንስ ሰወስት የአዲስ አበባ መሳጂዶችን እየረመረመ በየመስጊዶ የነበሩ በሺ የሚቆጠሩ ምዕመናን በአስለቃሽ ጢስ እያፈነ ፣ በዱላ እየቀጠቀጠ በየዕሥር ቤቱ አጉሯል ።\\nBlenMulu isuchisu ተሸፋፍኖ ያለፈን በአፄዎቹ ጊዜ የነበረውን የዝቅታ ዘመን ታሪክ ማውሳት ለአሁኑ ትውልድ ይማርበት ይሆን ዘንድ ይፃፋል እንጂ አንቺ እንዳልሽው ከበታችነት ስሜት የሚመነጭ ተራ ወሬ አይደለም ።\\nወላዲተ አምላክ የልባችንን ኀዘን ለማን እንነግራለን ?\\nየጊልያድ የመጽሐፍ ቅዱስ ትምህርት ቤት 123ኛ ክፍል ተመራቂዎች ።\\nይሖዋ እንዲህ አለኝ ፦ “ሂድና የይሁዳ ነገሥታት በሚገቡበትና በሚወጡበት በሕዝቡ ልጆች በር እንዲሁም በኢየሩሳሌም በሮች ሁሉ ቁም ።\\nእሱም ፤ ለመናገር እኮ ሞክሬ ነበር፤ነገር ግን እጆቼን ማንቀሳቀስ አልቻልኩም አላቸው ፡፡\\nበክልሉ በጥቅሉ 66 ሺህ ያህል ሰዎች በ2004 ዓ ም ብቻ በህጋዊም ሆነ በህገ ወጥ መንገድ ወደ ተለያዩ ሃገራት ይጓዙ የነበረ ቢሆንም በአሁኑ ወቅት ይህ ቁጥር በ21 ሺህ ቀንሶ ወደ 45 ሺህ ወርዷል ።\\nእኛ ግን የይሖ'"
      ]
     },
     "execution_count": 13,
     "metadata": {},
     "output_type": "execute_result"
    }
   ],
   "source": [
    "train_data[:1000]"
   ]
  }
 ],
 "metadata": {
  "kernelspec": {
   "display_name": "week10",
   "language": "python",
   "name": "python3"
  },
  "language_info": {
   "codemirror_mode": {
    "name": "ipython",
    "version": 3
   },
   "file_extension": ".py",
   "mimetype": "text/x-python",
   "name": "python",
   "nbconvert_exporter": "python",
   "pygments_lexer": "ipython3",
   "version": "3.8.2"
  }
 },
 "nbformat": 4,
 "nbformat_minor": 2
}
