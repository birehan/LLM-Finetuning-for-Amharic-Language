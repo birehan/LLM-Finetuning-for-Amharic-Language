{
 "cells": [
  {
   "cell_type": "markdown",
   "metadata": {},
   "source": [
    "## Semantic Models\n",
    "The semantic models, also known as the static and contextual embedding models are the most important contributions, that can be used to build different NLP applications (fine-tunning and transfer learning)."
   ]
  },
  {
   "cell_type": "markdown",
   "metadata": {},
   "source": [
    "### Word2Vec"
   ]
  },
  {
   "cell_type": "code",
   "execution_count": 2,
   "metadata": {},
   "outputs": [
    {
     "name": "stdout",
     "output_type": "stream",
     "text": [
      "--2024-03-02 16:09:56--  http://ltdata1.informatik.uni-hamburg.de/amharic/models/word2vec/amharic-word2vec-300D.gz\n",
      "Resolving ltdata1.informatik.uni-hamburg.de (ltdata1.informatik.uni-hamburg.de)... 134.100.15.200\n",
      "Connecting to ltdata1.informatik.uni-hamburg.de (ltdata1.informatik.uni-hamburg.de)|134.100.15.200|:80... failed: Connection timed out.\n",
      "Retrying.\n",
      "\n",
      "--2024-03-02 16:12:26--  (try: 2)  http://ltdata1.informatik.uni-hamburg.de/amharic/models/word2vec/amharic-word2vec-300D.gz\n",
      "Connecting to ltdata1.informatik.uni-hamburg.de (ltdata1.informatik.uni-hamburg.de)|134.100.15.200|:80... failed: Connection timed out.\n",
      "Retrying.\n",
      "\n",
      "--2024-03-02 16:14:42--  (try: 3)  http://ltdata1.informatik.uni-hamburg.de/amharic/models/word2vec/amharic-word2vec-300D.gz\n",
      "Connecting to ltdata1.informatik.uni-hamburg.de (ltdata1.informatik.uni-hamburg.de)|134.100.15.200|:80... connected.\n",
      "HTTP request sent, awaiting response... 200 OK\n",
      "Length: 5207744122 (4.8G) [application/octet-stream]\n",
      "Saving to: ‘amharic-word2vec-300D.gz’\n",
      "\n",
      "amharic-word2vec-30   0%[                    ]  29.03M  --.-KB/s    eta 24h 44m^C\n"
     ]
    }
   ],
   "source": [
    "!wget http://ltdata1.informatik.uni-hamburg.de/amharic/models/word2vec/amharic-word2vec-300D.gz "
   ]
  },
  {
   "cell_type": "code",
   "execution_count": null,
   "metadata": {},
   "outputs": [],
   "source": [
    "import gensim\n",
    "model = gensim.models.KeyedVectors.load_word2vec_format(\"PATH_TO/amharic-word2vec-300D.gz\", binary=False) \n",
    "model.most_similar(‘በሬ’)"
   ]
  }
 ],
 "metadata": {
  "kernelspec": {
   "display_name": "week10",
   "language": "python",
   "name": "python3"
  },
  "language_info": {
   "codemirror_mode": {
    "name": "ipython",
    "version": 3
   },
   "file_extension": ".py",
   "mimetype": "text/x-python",
   "name": "python",
   "nbconvert_exporter": "python",
   "pygments_lexer": "ipython3",
   "version": "3.8.2"
  }
 },
 "nbformat": 4,
 "nbformat_minor": 2
}
