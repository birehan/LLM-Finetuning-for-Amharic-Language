{
 "cells": [
  {
   "cell_type": "markdown",
   "metadata": {},
   "source": [
    "### CACO Amharic Corpus"
   ]
  },
  {
   "cell_type": "code",
   "execution_count": 6,
   "metadata": {},
   "outputs": [],
   "source": [
    "import xml.etree.ElementTree as ET\n",
    "from lxml import etree\n",
    "\n",
    "\n",
    "def fix_invalid_xml(file_path):\n",
    "    try:\n",
    "        parser = etree.XMLParser(recover=True)  # Set recover=True to handle invalid XML\n",
    "        tree = etree.parse(file_path, parser)\n",
    "        fixed_xml = etree.tostring(tree, encoding='unicode', pretty_print=True)\n",
    "        \n",
    "        with open(file_path, 'w') as f:\n",
    "            f.write(fixed_xml)\n",
    "        \n",
    "        # print(f\"The XML file '{file_path}' has been fixed and saved successfully.\")\n",
    "    \n",
    "    except IOError:\n",
    "        print(\"Error: File not found.\")\n",
    "    except etree.XMLSyntaxError as e:\n",
    "        print(f\"Error: {e}\")\n",
    "\n",
    "\n",
    "\n",
    "def extract_content_from_xml(xml_file_path):\n",
    "    \"\"\"\n",
    "    Extracts content from an XML file.\n",
    "    \n",
    "    Args:\n",
    "    xml_file_path (str): The path to the XML file.\n",
    "    \n",
    "    Returns:\n",
    "    content (dict): A dictionary containing extracted content from the XML file.\n",
    "    \"\"\"\n",
    "    content = {}  # Initialize an empty dictionary to store extracted content\n",
    "    \n",
    "    try:\n",
    "        fix_invalid_xml(xml_file_path)\n",
    "        tree = ET.parse(xml_file_path)  # Parse the XML file\n",
    "        root = tree.getroot()  # Get the root element\n",
    "        \n",
    "        # Iterate through each element in the XML tree\n",
    "        for element in root:\n",
    "            # Extract relevant content (e.g., text, attributes) from each element\n",
    "            # For demonstration, let's assume we're extracting text content from 'title' and 'body' elements\n",
    "            if element.tag == 'title':\n",
    "                content['title'] = element.text.strip() if element.text else None\n",
    "            elif element.tag == 'body':\n",
    "                content['body'] = element.text.strip() if element.text else None\n",
    "            # Add more conditions to extract other content as needed\n",
    "            \n",
    "    except ET.ParseError as e:\n",
    "        print(f\"Error parsing XML file: {e}\")\n",
    "    \n",
    "    return content"
   ]
  },
  {
   "cell_type": "code",
   "execution_count": 7,
   "metadata": {},
   "outputs": [],
   "source": [
    "xml_file_path = '../data/Contemporary_Amharic_Corpus_(CACO)-version_1.1/CACO_TEXT.xml'  # Replace 'example.xml' with the path to your XML file\n",
    "extracted_content = extract_content_from_xml(xml_file_path)\n",
    "print(\"Extracted Content:\")\n",
    "# print(extracted_content)"
   ]
  }
 ],
 "metadata": {
  "kernelspec": {
   "display_name": "week10",
   "language": "python",
   "name": "python3"
  },
  "language_info": {
   "codemirror_mode": {
    "name": "ipython",
    "version": 3
   },
   "file_extension": ".py",
   "mimetype": "text/x-python",
   "name": "python",
   "nbconvert_exporter": "python",
   "pygments_lexer": "ipython3",
   "version": "3.8.2"
  }
 },
 "nbformat": 4,
 "nbformat_minor": 2
}
