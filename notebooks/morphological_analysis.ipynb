{
 "cells": [
  {
   "cell_type": "markdown",
   "metadata": {},
   "source": [
    "## HornMorpho"
   ]
  },
  {
   "cell_type": "markdown",
   "metadata": {},
   "source": [
    "### Morphological Analysis\n",
    "Morphological analysis takes a word and returns zero or more analyses, each consisting<br/>\n",
    "of the root, stem, or lemma of the word and a set of grammatical features.\n",
    "\n"
   ]
  },
  {
   "cell_type": "code",
   "execution_count": 1,
   "metadata": {},
   "outputs": [
    {
     "name": "stdout",
     "output_type": "stream",
     "text": [
      "\n",
      "@@@@ This is HornMorpho, version 4.5.2.3 @@@@\n",
      "\n"
     ]
    }
   ],
   "source": [
    "import hm"
   ]
  },
  {
   "cell_type": "code",
   "execution_count": 6,
   "metadata": {},
   "outputs": [
    {
     "data": {
      "text/plain": [
       "[{'POS': 'n',\n",
       "  'lemma': 'ቤት|bet',\n",
       "  'root': 'ቤት|bet',\n",
       "  'gloss': 'house',\n",
       "  'gram': [-acc,cnj=None,+def,-dis,+gen,-itu,-pf,pg=m,-plr,pn=2,pos=n,pp=1,prep=None,-prp,t=[eng=house],v=None]}]"
      ]
     },
     "execution_count": 6,
     "metadata": {},
     "output_type": "execute_result"
    }
   ],
   "source": [
    "response = hm.anal('amh', \"የቤታችን\")\n",
    "response"
   ]
  },
  {
   "cell_type": "code",
   "execution_count": 7,
   "metadata": {},
   "outputs": [
    {
     "data": {
      "text/plain": [
       "list"
      ]
     },
     "execution_count": 7,
     "metadata": {},
     "output_type": "execute_result"
    }
   ],
   "source": [
    "type(response)"
   ]
  },
  {
   "cell_type": "code",
   "execution_count": 10,
   "metadata": {},
   "outputs": [
    {
     "data": {
      "text/plain": [
       "[{'POS': 'n',\n",
       "  'lemma': 'ቤት|bet',\n",
       "  'root': 'ቤት|bet',\n",
       "  'gloss': 'house',\n",
       "  'gram': [-acc,cnj=None,+def,-dis,+gen,-itu,-pf,pg=m,-plr,pn=2,pos=n,pp=1,prep=None,-prp,t=[eng=house],v=None]}]"
      ]
     },
     "execution_count": 10,
     "metadata": {},
     "output_type": "execute_result"
    }
   ],
   "source": [
    "response_2 = hm.anal('amh', \"የቤታችን\", raw=True)\n",
    "response_2"
   ]
  },
  {
   "cell_type": "code",
   "execution_count": 13,
   "metadata": {},
   "outputs": [
    {
     "data": {
      "text/plain": [
       "[{'POS': 'n',\n",
       "  'lemma': 'ቤት|bet',\n",
       "  'root': 'ቤት|bet',\n",
       "  'gloss': 'house',\n",
       "  'gram': 'N;GEN;PSS1P'}]"
      ]
     },
     "execution_count": 13,
     "metadata": {},
     "output_type": "execute_result"
    }
   ],
   "source": [
    "response_3 = hm.anal('amh', \"የቤታችን\", um=True)\n",
    "response_3"
   ]
  },
  {
   "cell_type": "code",
   "execution_count": 14,
   "metadata": {},
   "outputs": [
    {
     "data": {
      "text/plain": [
       "[{'POS': 'v',\n",
       "  'lemma': 'ፈቀደ|fǝqqǝdǝ',\n",
       "  'root': '<fqd:A>',\n",
       "  'gloss': 'permit,allow',\n",
       "  'gram': 'V;PFV;PASS;3;SG;MASC;DA3SF'}]"
      ]
     },
     "execution_count": 14,
     "metadata": {},
     "output_type": "execute_result"
    }
   ],
   "source": [
    "response_4 = hm.anal('amh', \"ተፈቀደላት\", um=True)\n",
    "response_4"
   ]
  },
  {
   "cell_type": "markdown",
   "metadata": {},
   "source": [
    "### Morphological Generation\n",
    "Morphological generation takes a lemma and a set of grammatical <br/>\n",
    "features and returns zero or more word forms.\n",
    "\n"
   ]
  },
  {
   "cell_type": "code",
   "execution_count": 15,
   "metadata": {},
   "outputs": [
    {
     "data": {
      "text/plain": [
       "['ፈቀደ|fǝqǝdǝ']"
      ]
     },
     "execution_count": 15,
     "metadata": {},
     "output_type": "execute_result"
    }
   ],
   "source": [
    "hm.gen('amh', \"ፈቀደ\")"
   ]
  },
  {
   "cell_type": "code",
   "execution_count": 19,
   "metadata": {},
   "outputs": [
    {
     "data": {
      "text/plain": [
       "[\"አንፈቅድም|'anfǝqdm\"]"
      ]
     },
     "execution_count": 19,
     "metadata": {},
     "output_type": "execute_result"
    }
   ],
   "source": [
    "hm.gen('amh', \"ፈቀደ\", features=\"[sb=[+p1,+plr],tm=imf,+neg]\")"
   ]
  },
  {
   "cell_type": "code",
   "execution_count": 22,
   "metadata": {},
   "outputs": [
    {
     "data": {
      "text/plain": [
       "[\"አንፈቅድም|'anfǝqdm\"]"
      ]
     },
     "execution_count": 22,
     "metadata": {},
     "output_type": "execute_result"
    }
   ],
   "source": [
    "hm.gen('amh', \"ፈቀደ\", um=\"1;PL;IPFV;NEG\")"
   ]
  },
  {
   "cell_type": "markdown",
   "metadata": {},
   "source": [
    "### Morphological Segmentation\n",
    "Morphological segmentation takes a word and returns a representation <br/>\n",
    " of the sequence of morphemes making up the word."
   ]
  },
  {
   "cell_type": "code",
   "execution_count": 2,
   "metadata": {},
   "outputs": [
    {
     "name": "stdout",
     "output_type": "stream",
     "text": [
      "Loading Amharic data from amh_lang\n",
      "Loading FSTs for አማርኛ (segmentation) ...\n",
      "አንፈቅድም -- v:'an(neg1,sb=1p)-{fqd+1e23}(imprf)-m(neg2)\n",
      "\n"
     ]
    }
   ],
   "source": [
    "hm.seg('amh', \"አንፈቅድም\")"
   ]
  },
  {
   "cell_type": "code",
   "execution_count": 3,
   "metadata": {},
   "outputs": [
    {
     "data": {
      "text/plain": [
       "[['አን(neg1,sb=1p)-{ፈቅድ}(imprf)-ም(neg2)']]"
      ]
     },
     "execution_count": 3,
     "metadata": {},
     "output_type": "execute_result"
    }
   ],
   "source": [
    "hm.seg('amh', \"አንፈቅድም\", realize=True)"
   ]
  },
  {
   "cell_type": "code",
   "execution_count": 4,
   "metadata": {},
   "outputs": [
    {
     "name": "stdout",
     "output_type": "stream",
     "text": [
      "# text = ልጁን ሥራውን አስጨርሰዋለሁ ።\n",
      "# sent_id = _s0\n",
      "1-3\tልጁን\t_\t_\t_\t_\t_\t_\t_\t_\n",
      "1\tልጅ\t{lj}-u(@det,*ኡ,~det)-n(@part,acc,$case=acc,*ን,~case)\tNOUN\tNOUN\t_\t_\t_\t_\t_\n",
      "2\tኡ\tኡ\tDET\tDET\t_\t1\tdet\t_\t_\n",
      "3\tን\tን\tPART\tACC\tCase=Acc\t1\tcase\t_\t_\n",
      "4-6\tሥራውን\t_\t_\t_\t_\t_\t_\t_\t_\n",
      "4\tሥራ\t{sra}-u(@det,*ኡ,~det)-n(@part,acc,$case=acc,*ን,~case)\tNOUN\tNOUN\t_\t_\t_\t_\t_\n",
      "5\tኡ\tኡ\tDET\tDET\t_\t4\tdet\t_\t_\n",
      "6\tን\tን\tPART\tACC\tCase=Acc\t4\tcase\t_\t_\n",
      "7-11\tአስጨርሰዋለሁ\t_\t_\t_\t_\t_\t_\t_\t_\n",
      "7\tእ\tእ\tPRON\tPRON\tNumber=Sing|Person=1\t8\tnsubj\t_\t_\n",
      "8\tአስጨር፟ስ\tጨረሰ\tVERB\tVERB\tAspect=Imp|Voice=Cau\t_\t_\t_\t_\n",
      "9\tኧው\tው\tPRON\tOBJC\tGender=Masc|Number=Sing|Person=3\t8\tobj\t_\t_\n",
      "10\tኣል\tኣል\tAUX\tAUX\t_\t8\taux\t_\t_\n",
      "11\tኧሁ\tሁ\tPRON\tSUBJC\tNumber=Sing|Person=1\t8\tnsubj\t_\t_\n",
      "12\t።\t።\tPUNCT\tPUNCT\t_\t_\t_\t_\t_\n",
      "\n",
      "\n"
     ]
    }
   ],
   "source": [
    "s = hm.seg_sentence(\"ልጁን ሥራውን አስጨርሰዋለሁ ።\")\n",
    "print(s.conllu.serialize())"
   ]
  }
 ],
 "metadata": {
  "kernelspec": {
   "display_name": "week10",
   "language": "python",
   "name": "python3"
  },
  "language_info": {
   "codemirror_mode": {
    "name": "ipython",
    "version": 3
   },
   "file_extension": ".py",
   "mimetype": "text/x-python",
   "name": "python",
   "nbconvert_exporter": "python",
   "pygments_lexer": "ipython3",
   "version": "3.8.2"
  }
 },
 "nbformat": 4,
 "nbformat_minor": 2
}
